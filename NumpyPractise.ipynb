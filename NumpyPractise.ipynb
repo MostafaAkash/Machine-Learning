{
 "cells": [
  {
   "cell_type": "code",
   "execution_count": 1,
   "metadata": {},
   "outputs": [
    {
     "name": "stdout",
     "output_type": "stream",
     "text": [
      "[ 0  1  2  3  4  5  6  7  8  9 10 11 12 13 14]\n"
     ]
    }
   ],
   "source": [
    "import numpy as np\n",
    "a = np.arange(15)\n",
    "print(a)"
   ]
  },
  {
   "cell_type": "code",
   "execution_count": 2,
   "metadata": {},
   "outputs": [
    {
     "name": "stdout",
     "output_type": "stream",
     "text": [
      "[[ 0  1  2  3  4]\n",
      " [ 5  6  7  8  9]\n",
      " [10 11 12 13 14]]\n"
     ]
    }
   ],
   "source": [
    "a = np.arange(15).reshape(3,5)\n",
    "print(a)"
   ]
  },
  {
   "cell_type": "code",
   "execution_count": 3,
   "metadata": {},
   "outputs": [
    {
     "name": "stdout",
     "output_type": "stream",
     "text": [
      "int32\n"
     ]
    }
   ],
   "source": [
    "print(a.dtype.name)"
   ]
  },
  {
   "cell_type": "code",
   "execution_count": 4,
   "metadata": {},
   "outputs": [
    {
     "name": "stdout",
     "output_type": "stream",
     "text": [
      "[1 3 4]\n"
     ]
    }
   ],
   "source": [
    "b = np.array([1,3,4])\n",
    "print(b)"
   ]
  },
  {
   "cell_type": "code",
   "execution_count": 5,
   "metadata": {},
   "outputs": [
    {
     "name": "stdout",
     "output_type": "stream",
     "text": [
      "[1.3 3.  5.6]\n"
     ]
    }
   ],
   "source": [
    "c = np.array([1.3,3,5.6])\n",
    "print(c)\n"
   ]
  },
  {
   "cell_type": "code",
   "execution_count": 6,
   "metadata": {},
   "outputs": [
    {
     "name": "stdout",
     "output_type": "stream",
     "text": [
      "[[1 3]\n",
      " [2 5]]\n"
     ]
    }
   ],
   "source": [
    "b = np.array([(1,3),(2,5)])\n",
    "print(b)"
   ]
  },
  {
   "cell_type": "code",
   "execution_count": 7,
   "metadata": {},
   "outputs": [
    {
     "name": "stdout",
     "output_type": "stream",
     "text": [
      "[[0. 0. 0. 0.]\n",
      " [0. 0. 0. 0.]\n",
      " [0. 0. 0. 0.]]\n"
     ]
    }
   ],
   "source": [
    "b = np.zeros((3,4))\n",
    "print(b)"
   ]
  },
  {
   "cell_type": "code",
   "execution_count": 10,
   "metadata": {},
   "outputs": [
    {
     "name": "stdout",
     "output_type": "stream",
     "text": [
      "[[1 1 1 1]\n",
      " [1 1 1 1]\n",
      " [1 1 1 1]]\n"
     ]
    }
   ],
   "source": [
    "b = np.ones((3,4),dtype = np.int32)\n",
    "print(b)"
   ]
  },
  {
   "cell_type": "code",
   "execution_count": 12,
   "metadata": {},
   "outputs": [
    {
     "name": "stdout",
     "output_type": "stream",
     "text": [
      "[ 1  2  3  4  5  6  7  8  9 10 11 12 13 14 15]\n"
     ]
    }
   ],
   "source": [
    "x = np.arange(1,16,1)\n",
    "print(x)"
   ]
  },
  {
   "cell_type": "code",
   "execution_count": 15,
   "metadata": {},
   "outputs": [
    {
     "name": "stdout",
     "output_type": "stream",
     "text": [
      "[ 0.00000000e+00  6.42787610e-01  9.84807753e-01  8.66025404e-01\n",
      "  3.42020143e-01 -3.42020143e-01 -8.66025404e-01 -9.84807753e-01\n",
      " -6.42787610e-01 -2.44929360e-16]\n"
     ]
    }
   ],
   "source": [
    "from numpy import pi\n",
    "x = np.linspace(0,2*pi,10)\n",
    "f = np.sin(x)\n",
    "print(f)\n"
   ]
  },
  {
   "cell_type": "code",
   "execution_count": 4,
   "metadata": {},
   "outputs": [
    {
     "name": "stdout",
     "output_type": "stream",
     "text": [
      "[8 9 3 6 5 8 1 5 7 8]\n"
     ]
    }
   ],
   "source": [
    "ran = np.random.randint(10,size = 10)\n",
    "print(ran)\n"
   ]
  },
  {
   "cell_type": "code",
   "execution_count": 5,
   "metadata": {},
   "outputs": [
    {
     "name": "stdout",
     "output_type": "stream",
     "text": [
      "[1 1 0 1 1 0 1 0 1 1 1 0 0 1 0 1 1 0 0 0 0 1 0 1 1 1 1 1 1 0]\n"
     ]
    }
   ],
   "source": [
    "ran = np.random.randint(2,size=30)\n",
    "print(ran)"
   ]
  },
  {
   "cell_type": "code",
   "execution_count": 6,
   "metadata": {},
   "outputs": [],
   "source": [
    "x = np.random.randint(5,size=(3,3))\n"
   ]
  },
  {
   "cell_type": "code",
   "execution_count": 7,
   "metadata": {},
   "outputs": [
    {
     "name": "stdout",
     "output_type": "stream",
     "text": [
      "[[2 1 2]\n",
      " [1 0 4]\n",
      " [3 0 0]]\n"
     ]
    }
   ],
   "source": [
    "print(x)"
   ]
  },
  {
   "cell_type": "code",
   "execution_count": 11,
   "metadata": {},
   "outputs": [
    {
     "name": "stdout",
     "output_type": "stream",
     "text": [
      "[0 1 2 3]\n"
     ]
    }
   ],
   "source": [
    "z = np.array([1,2,3,4])\n",
    "y = np.arange(4)\n",
    "print(y)\n"
   ]
  },
  {
   "cell_type": "code",
   "execution_count": 12,
   "metadata": {},
   "outputs": [
    {
     "name": "stdout",
     "output_type": "stream",
     "text": [
      "[1 3 5 7]\n"
     ]
    }
   ],
   "source": [
    "z = z+y\n",
    "print(z)"
   ]
  },
  {
   "cell_type": "code",
   "execution_count": 13,
   "metadata": {},
   "outputs": [
    {
     "name": "stdout",
     "output_type": "stream",
     "text": [
      "[ 1  9 25 49]\n"
     ]
    }
   ],
   "source": [
    "z = z**2\n",
    "print(z)"
   ]
  },
  {
   "cell_type": "code",
   "execution_count": 14,
   "metadata": {},
   "outputs": [
    {
     "name": "stdout",
     "output_type": "stream",
     "text": [
      "[ 2 18 50 98]\n"
     ]
    }
   ],
   "source": [
    "z = z*2\n",
    "print(z)\n"
   ]
  },
  {
   "cell_type": "code",
   "execution_count": 2,
   "metadata": {},
   "outputs": [
    {
     "name": "stdout",
     "output_type": "stream",
     "text": [
      "[[ 0  1  2  3  4]\n",
      " [ 5  6  7  8  9]\n",
      " [10 11 12 13 14]]\n",
      "[[0]\n",
      " [1]\n",
      " [2]\n",
      " [3]\n",
      " [4]]\n"
     ]
    }
   ],
   "source": [
    "A = np.arange(15).reshape(3,5)\n",
    "print(A)\n",
    "B= np.arange(5).reshape(5,1)\n",
    "print(B)\n"
   ]
  },
  {
   "cell_type": "code",
   "execution_count": 19,
   "metadata": {},
   "outputs": [
    {
     "name": "stdout",
     "output_type": "stream",
     "text": [
      "[[ 30]\n",
      " [ 80]\n",
      " [130]]\n"
     ]
    }
   ],
   "source": [
    "print(A.dot(B))\n",
    "\n"
   ]
  },
  {
   "cell_type": "code",
   "execution_count": 20,
   "metadata": {},
   "outputs": [
    {
     "name": "stdout",
     "output_type": "stream",
     "text": [
      "105\n"
     ]
    }
   ],
   "source": [
    "print(A.sum())"
   ]
  },
  {
   "cell_type": "code",
   "execution_count": 21,
   "metadata": {},
   "outputs": [
    {
     "name": "stdout",
     "output_type": "stream",
     "text": [
      "105.0\n"
     ]
    }
   ],
   "source": [
    "x = (15*14)/2\n",
    "print(x)"
   ]
  },
  {
   "cell_type": "code",
   "execution_count": 22,
   "metadata": {},
   "outputs": [
    {
     "name": "stdout",
     "output_type": "stream",
     "text": [
      "[15 18 21 24 27]\n"
     ]
    }
   ],
   "source": [
    "print(A.sum(axis=0))\n"
   ]
  },
  {
   "cell_type": "code",
   "execution_count": 23,
   "metadata": {},
   "outputs": [
    {
     "name": "stdout",
     "output_type": "stream",
     "text": [
      "[10 11 12 13 14]\n"
     ]
    }
   ],
   "source": [
    "print(A.max(axis=0))\n"
   ]
  },
  {
   "cell_type": "code",
   "execution_count": 30,
   "metadata": {},
   "outputs": [
    {
     "name": "stdout",
     "output_type": "stream",
     "text": [
      "15\n"
     ]
    }
   ],
   "source": [
    "print(A.size)\n",
    "    \n"
   ]
  },
  {
   "cell_type": "code",
   "execution_count": 29,
   "metadata": {},
   "outputs": [
    {
     "name": "stdout",
     "output_type": "stream",
     "text": [
      "[[ 0  1  2  3  4]\n",
      " [ 5  6  7  8  9]\n",
      " [10 11 12 13 14]]\n"
     ]
    }
   ],
   "source": [
    "print(A)"
   ]
  },
  {
   "cell_type": "code",
   "execution_count": 31,
   "metadata": {},
   "outputs": [
    {
     "name": "stdout",
     "output_type": "stream",
     "text": [
      "2\n"
     ]
    }
   ],
   "source": [
    "print(A.ndim)"
   ]
  },
  {
   "cell_type": "code",
   "execution_count": 35,
   "metadata": {},
   "outputs": [
    {
     "name": "stdout",
     "output_type": "stream",
     "text": [
      "(3, 5)\n"
     ]
    }
   ],
   "source": [
    "print(A.shape)"
   ]
  },
  {
   "cell_type": "code",
   "execution_count": 36,
   "metadata": {},
   "outputs": [
    {
     "name": "stdout",
     "output_type": "stream",
     "text": [
      "3 5\n"
     ]
    }
   ],
   "source": [
    "row,column = A.shape\n",
    "print(row,column)"
   ]
  },
  {
   "cell_type": "code",
   "execution_count": 37,
   "metadata": {},
   "outputs": [
    {
     "name": "stdout",
     "output_type": "stream",
     "text": [
      "[0 1 2 3 4]\n",
      "[5 6 7 8 9]\n",
      "[10 11 12 13 14]\n"
     ]
    }
   ],
   "source": [
    "for i in A:\n",
    "    print(i)"
   ]
  },
  {
   "cell_type": "code",
   "execution_count": 52,
   "metadata": {},
   "outputs": [
    {
     "name": "stdout",
     "output_type": "stream",
     "text": [
      "0 1 2 3 4 \n",
      "5 6 7 8 9 \n",
      "10 11 12 13 14 \n"
     ]
    }
   ],
   "source": [
    "for i in range(row):\n",
    "    for j in range(column):\n",
    "        print(A[i,j],end=' ')\n",
    "    print()    "
   ]
  },
  {
   "cell_type": "code",
   "execution_count": 47,
   "metadata": {},
   "outputs": [
    {
     "name": "stdout",
     "output_type": "stream",
     "text": [
      "8\n"
     ]
    }
   ],
   "source": [
    "print(A[1,3])"
   ]
  },
  {
   "cell_type": "code",
   "execution_count": 3,
   "metadata": {},
   "outputs": [
    {
     "name": "stdout",
     "output_type": "stream",
     "text": [
      "[[0.         1.         1.41421356 1.73205081 2.        ]\n",
      " [2.23606798 2.44948974 2.64575131 2.82842712 3.        ]\n",
      " [3.16227766 3.31662479 3.46410162 3.60555128 3.74165739]]\n",
      "[[ 0  1  2  3  4]\n",
      " [ 5  6  7  8  9]\n",
      " [10 11 12 13 14]]\n"
     ]
    }
   ],
   "source": [
    "print(np.sqrt(A))\n",
    "print(A)"
   ]
  },
  {
   "cell_type": "code",
   "execution_count": 5,
   "metadata": {},
   "outputs": [],
   "source": [
    "import matplotlib.pyplot as plt\n"
   ]
  },
  {
   "cell_type": "code",
   "execution_count": 6,
   "metadata": {},
   "outputs": [
    {
     "data": {
      "image/png": "[encoded data removed]",
      "text/plain": [
       "<Figure size 432x288 with 1 Axes>"
      ]
     },
     "metadata": {},
     "output_type": "display_data"
    }
   ],
   "source": [
    "x = [1,2,3]\n",
    "y = [2,4,1]\n",
    "plt.plot(x,y)\n",
    "plt.show()"
   ]
  },
  {
   "cell_type": "code",
   "execution_count": 12,
   "metadata": {},
   "outputs": [
    {
     "name": "stdout",
     "output_type": "stream",
     "text": [
      "[ 0.          0.10003281  0.19906213  0.2960945   0.39015654  0.48030464\n",
      "  0.56563445  0.64528998  0.71847213  0.78444678  0.84255206  0.89220511\n",
      "  0.93290779  0.96425181  0.98592271  0.99770312  0.99947484  0.99122011\n",
      "  0.97302173  0.94506227  0.9076222   0.86107713  0.80589396  0.74262629\n",
      "  0.6719088   0.5944509   0.51102964  0.42248187  0.32969589  0.23360248\n",
      "  0.13516563  0.03537285 -0.06477479 -0.16427262 -0.26212252 -0.35734288\n",
      " -0.44897847 -0.53611004 -0.61786349 -0.69341871 -0.76201775 -0.82297244\n",
      " -0.8756713  -0.91958566 -0.95427499 -0.97939131 -0.99468264 -0.99999559\n",
      " -0.99527686 -0.98057379 -0.95603388 -0.9219033  -0.87852444 -0.82633246\n",
      " -0.76585095 -0.69768664 -0.62252332 -0.54111503 -0.45427842 -0.36288461\n",
      " -0.26785044 -0.17012928 -0.07070142  0.02943569  0.12927751  0.22782246\n",
      "  0.32408195  0.41709035  0.50591461  0.58966367  0.66749739  0.73863497\n",
      "  0.80236276  0.85804147  0.90511255  0.94310378  0.97163407  0.99041719\n",
      "  0.99926471  0.9980879   0.98689854  0.96580889  0.93503051  0.89487216\n",
      "  0.84573671  0.78811706  0.72259123  0.64981657  0.57052314  0.48550637\n",
      "  0.39561914  0.30176316  0.20487998  0.1059415   0.00594025 -0.09412059\n",
      " -0.19323725 -0.2904154  -0.38468018 -0.47508596 -0.56072581 -0.64074061\n",
      " -0.71432768 -0.78074881 -0.83933769 -0.88950657 -0.93075216 -0.9626607\n",
      " -0.9849121  -0.99728313 -0.9996497  -0.99198805 -0.97437506 -0.94698741\n",
      " -0.91009984 -0.8640824  -0.80939673 -0.74659141 -0.67629649 -0.59921716\n",
      " -0.51612665 -0.42785849 -0.33529818 -0.23937425 -0.14104899 -0.04130876\n",
      "  0.05884587  0.15841017  0.25638535  0.35178854  0.44366268  0.53108613\n",
      "  0.61318186  0.68912632  0.75815766  0.81958337  0.87278725  0.91723557\n",
      "  0.95248244  0.97817426  0.99405332  0.9999603   0.99583596  0.98172167\n",
      "  0.95775903  0.9241884   0.88134658  0.82966333  0.76965713  0.70192994\n",
      "  0.62716119  0.54610093  0.45956233  0.36841353  0.27356892  0.17597993\n",
      "  0.07662556 -0.0234975  -0.12338483 -0.2220344  -0.31845659 -0.4116841\n",
      " -0.50078172 -0.58485563 -0.66306243 -0.73461758 -0.79880324 -0.85497553\n",
      " -0.90257095 -0.94111202 -0.97021212 -0.98957932 -0.99901933 -0.99843746\n",
      " -0.98783954 -0.96733189 -0.93712023 -0.89750764 -0.84889151 -0.79175953\n",
      " -0.72668483 -0.65432024 -0.57539169 -0.49069097 -0.40106777 -0.30742117\n",
      " -0.21069061 -0.11184646 -0.01188029  0.08820505  0.18740555  0.28472604\n",
      "  0.37919025  0.46985052  0.55579738  0.63616864  0.71015802  0.7770233\n",
      "  0.8360937   0.88677664  0.92856368  0.96103562  0.98386673  0.99682795\n",
      "  0.99978928  0.99272099  0.975694    0.94887913  0.91254535  0.86705718\n",
      "  0.81287093  0.75053018  0.68066033  0.60396227  0.52120544  0.43322001\n",
      "  0.34088865  0.24513758  0.14692736  0.04724321 -0.05291488 -0.15254213\n",
      " -0.25063913 -0.34622179 -0.43833124 -0.52604348 -0.60847859 -0.68480961\n",
      " -0.75427082 -0.81616539 -0.86987241 -0.91485312 -0.95065627 -0.9769227\n",
      " -0.99338892 -0.99988973 -0.99635993 -0.98283492 -0.95945038 -0.9264409\n",
      " -0.88413762 -0.83296492 -0.77343615 -0.70614848 -0.63177692 -0.55106755\n",
      " -0.46483003 -0.37392946 -0.27927773 -0.18182437 -0.08254699  0.01755847\n",
      "  0.11748779  0.21623851  0.31281998  0.40626333  0.49563116  0.58002695\n",
      "  0.65860408  0.73057427  0.79521554  0.85187943  0.8999975   0.93908705\n",
      "  0.96875593  0.98870653  0.99873869  0.99875179  0.98874568  0.96882075\n",
      "  0.93917688  0.90011145  0.85201635  0.79537406  0.73075279  0.65880082\n",
      "  0.58023994  0.49585825  0.40650225  0.31306833  0.2164938   0.11774746\n",
      "  0.01781991 -0.0822864  -0.18156724 -0.27902664 -0.37368693 -0.4645985\n",
      " -0.55084934 -0.63157421 -0.70596331 -0.77327037 -0.83282021 -0.88401542\n",
      " -0.92634243 -0.95937664 -0.98278664 -0.9963376  -0.99989358 -0.9934189\n",
      " -0.97697852 -0.95073736 -0.91495867 -0.87000137 -0.81631645 -0.75444247\n",
      " -0.68500014 -0.60868607 -0.52626584 -0.43856625 -0.34646709 -0.25089226\n",
      " -0.15280055 -0.05317599  0.04698201  0.14666871  0.24488407  0.34064281\n",
      "  0.43298433  0.52098226  0.60375385  0.68046874  0.75035736  0.8127186\n",
      "  0.86692688  0.91243838  0.94879656  0.97563667  0.99268947  0.99978387\n",
      "  0.99684873  0.98391347  0.96110787  0.9286607   0.88689747  0.83623712\n",
      "  0.77718787  0.71034209  0.63637036  0.55601474  0.47008133  0.37943219\n",
      "  0.2849767   0.18766239  0.08846551 -0.01161883 -0.11158661 -0.21043499\n",
      " -0.30717234 -0.40082822 -0.49046311 -0.57517781 -0.65412248 -0.72650518\n",
      " -0.79159978 -0.84875326 -0.8973923  -0.93702894 -0.96726556 -0.98779885\n",
      " -0.99842281 -0.99903087 -0.98961693 -0.97027543 -0.94120039 -0.9026835\n",
      " -0.85511113 -0.79896052 -0.73479496 -0.66325815 -0.58506771 -0.50100803\n",
      " -0.41192239 -0.31870445 -0.22228935 -0.12364431 -0.02375891  0.07636484\n",
      "  0.17572252  0.2733174   0.36817043  0.45933008  0.54588186  0.6269575\n",
      "  0.70174368  0.76949016  0.82951733  0.88122301  0.9240885   0.9576838\n",
      "  0.98167187  0.99581209  0.9999626   0.99408176  0.97822856  0.95256205\n",
      "  0.9173397   0.87291485  0.81973317  0.75832814  0.68931578  0.6133884\n",
      "  0.53130767  0.44389701  0.3520333   0.25663808  0.15866835  0.0591069\n",
      " -0.04104749 -0.14079011 -0.23912036 -0.33505182 -0.42762214 -0.51590267\n",
      " -0.5990078  -0.67610385 -0.74641742 -0.80924314 -0.86395075 -0.90999145\n",
      " -0.94690337 -0.97431621 -0.99195498 -0.99964274 -0.99730236 -0.98495732\n",
      " -0.96273145 -0.93084774 -0.88962601 -0.83947981 -0.78091217 -0.71451065\n",
      " -0.64094135 -0.5609423  -0.47531603 -0.38492153 -0.2906656  -0.1934938\n",
      " -0.09438091  0.00567877  0.10568149  0.20462404  0.30151386  0.39537897\n",
      "  0.48527775  0.57030837  0.6496178   0.72241045  0.78795608  0.84559715\n",
      "  0.89475542  0.93493776  0.96574106  0.98685632  0.9980717   0.99927471\n",
      "  0.99045327  0.97169587  0.94319069  0.90522369  0.85817573  0.80251879\n",
      "  0.73881121  0.66769207  0.58987484  0.50614014  0.41732799  0.32432931\n",
      "  0.22807706  0.1295368   0.02969706 -0.07044059 -0.1698716  -0.26759851\n",
      " -0.36264094 -0.45404546 -0.54089511 -0.62231866 -0.69749929 -0.76568279\n",
      " -0.82618517 -0.8783995  -0.92180196 -0.95595716 -0.98052247 -0.99525144\n",
      " -0.99999633 -0.99470953 -0.97944409 -0.95435313 -0.91968836 -0.87579754\n",
      " -0.82312096 -0.76218705 -0.6936071  -0.61806907 -0.53633075 -0.4492121\n",
      " -0.35758709 -0.26237485]\n"
     ]
    },
    {
     "data": {
      "text/plain": [
       "[<matplotlib.lines.Line2D at 0x24fe2517160>]"
      ]
     },
     "execution_count": 12,
     "metadata": {},
     "output_type": "execute_result"
    },
    {
     "data": {
      "image/png": "[encoded data removed]",
      "text/plain": [
       "<Figure size 432x288 with 1 Axes>"
      ]
     },
     "metadata": {},
     "output_type": "display_data"
    }
   ],
   "source": [
    "x = np.linspace(0,50,500)\n",
    "y = np.sin(x)\n",
    "print(y)\n",
    "plt.plot(x,y)"
   ]
  },
  {
   "cell_type": "code",
   "execution_count": 13,
   "metadata": {},
   "outputs": [],
   "source": [
    "def myFunctioncal(x):\n",
    "    return (-2*x-5)/3\n"
   ]
  },
  {
   "cell_type": "code",
   "execution_count": 18,
   "metadata": {},
   "outputs": [
    {
     "name": "stdout",
     "output_type": "stream",
     "text": [
      "100\n"
     ]
    }
   ],
   "source": [
    "x = np.arange(100)\n",
    "print(x.size)"
   ]
  },
  {
   "cell_type": "code",
   "execution_count": 25,
   "metadata": {},
   "outputs": [
    {
     "data": {
      "text/plain": [
       "[<matplotlib.lines.Line2D at 0x24fe21dbda0>]"
      ]
     },
     "execution_count": 25,
     "metadata": {},
     "output_type": "execute_result"
    },
    {
     "data": {
      "image/png": "[encoded data removed]",
      "text/plain": [
       "<Figure size 432x288 with 1 Axes>"
      ]
     },
     "metadata": {},
     "output_type": "display_data"
    }
   ],
   "source": [
    "y =[]\n",
    "for i in range(x.size):\n",
    "    y.append(myFunctioncal(i))\n",
    "    \n",
    "plt.plot(x,y)   \n"
   ]
  },
  {
   "cell_type": "code",
   "execution_count": 28,
   "metadata": {},
   "outputs": [
    {
     "name": "stdout",
     "output_type": "stream",
     "text": [
      "[10 13  8  9  0  6  2 18  5 17 12  6  9  7  7 10  6  0  5  8 10  3  1  7\n",
      "  0  8 12 17  7  7  2  9  2 13  1 12  4 17  0 15 15 17  4  3 14  3  4  5\n",
      " 14  0]\n",
      "[50 53 48 49 40 46 42 58 45 57 52 46 49 47 47 50 46 40 45 48 50 43 41 47\n",
      " 40 48 52 57 47 47 42 49 42 53 41 52 44 57 40 55 55 57 44 43 54 43 44 45\n",
      " 54 40]\n"
     ]
    }
   ],
   "source": [
    "g = np.random.randint(20,size=50)\n",
    "print(g)\n",
    "g = (g + 40)%60\n",
    "print(g)"
   ]
  },
  {
   "cell_type": "code",
   "execution_count": 32,
   "metadata": {},
   "outputs": [
    {
     "name": "stdout",
     "output_type": "stream",
     "text": [
      "[40 41 42 43 44 45 46 47 48 49 50 51 52 53 54 55 56 57 58 59 60]\n"
     ]
    }
   ],
   "source": [
    "m = np.arange(40,61)\n",
    "print(m)"
   ]
  },
  {
   "cell_type": "code",
   "execution_count": 38,
   "metadata": {},
   "outputs": [
    {
     "name": "stdout",
     "output_type": "stream",
     "text": [
      "(40, 60)\n"
     ]
    }
   ],
   "source": [
    "range=(40,60)\n",
    "print(range)\n"
   ]
  },
  {
   "cell_type": "code",
   "execution_count": 42,
   "metadata": {},
   "outputs": [
    {
     "data": {
      "text/plain": [
       "(array([13., 14.,  9.,  9.,  5.]),\n",
       " array([40., 44., 48., 52., 56., 60.]),\n",
       " <a list of 5 Patch objects>)"
      ]
     },
     "execution_count": 42,
     "metadata": {},
     "output_type": "execute_result"
    },
    {
     "data": {
      "image/png": "[encoded data removed]",
      "text/plain": [
       "<Figure size 432x288 with 1 Axes>"
      ]
     },
     "metadata": {},
     "output_type": "display_data"
    }
   ],
   "source": [
    "bins = 5\n",
    "plt.hist(g, bins,range, color = 'green', \n",
    "        histtype = 'bar', rwidth = 0.8) "
   ]
  },
  {
   "cell_type": "code",
   "execution_count": 21,
   "metadata": {},
   "outputs": [],
   "source": [
    "import random\n",
    "letter = []\n",
    "for i in range(10):\n",
    "    #print(random.randint(0,26))\n",
    "    letter.append(chr(97+random.randint(0,25)))\n",
    "    \n",
    "    \n",
    "    \n",
    "    \n"
   ]
  },
  {
   "cell_type": "code",
   "execution_count": 26,
   "metadata": {},
   "outputs": [
    {
     "name": "stdout",
     "output_type": "stream",
     "text": [
      "['t', 'o', 'd', 'b', 'g', 'm', 'p', 'i', 'm', 'q']\n"
     ]
    }
   ],
   "source": [
    "print(letter)"
   ]
  },
  {
   "cell_type": "code",
   "execution_count": 38,
   "metadata": {},
   "outputs": [],
   "source": [
    "ele = {}\n",
    "def inFunction():\n",
    "    for i in range(26):\n",
    "        x = chr(97+i)\n",
    "        ele[x] = 0\n",
    "        \n",
    "    \n"
   ]
  },
  {
   "cell_type": "code",
   "execution_count": 40,
   "metadata": {},
   "outputs": [
    {
     "name": "stdout",
     "output_type": "stream",
     "text": [
      "{'a': 0, 'b': 0, 'c': 0, 'd': 0, 'e': 0, 'f': 0, 'g': 0, 'h': 0, 'i': 0, 'j': 0, 'k': 0, 'l': 0, 'm': 0, 'n': 0, 'o': 0, 'p': 0, 'q': 0, 'r': 0, 's': 0, 't': 0, 'u': 0, 'v': 0, 'w': 0, 'x': 0, 'y': 0, 'z': 0}\n"
     ]
    }
   ],
   "source": [
    "inFunction()\n",
    "print(ele)\n"
   ]
  },
  {
   "cell_type": "code",
   "execution_count": 41,
   "metadata": {},
   "outputs": [
    {
     "name": "stdout",
     "output_type": "stream",
     "text": [
      "{'a': 1, 'b': 0, 'c': 0, 'd': 0, 'e': 0, 'f': 0, 'g': 0, 'h': 0, 'i': 0, 'j': 0, 'k': 0, 'l': 0, 'm': 0, 'n': 0, 'o': 0, 'p': 0, 'q': 0, 'r': 0, 's': 0, 't': 0, 'u': 0, 'v': 0, 'w': 0, 'x': 0, 'y': 0, 'z': 0}\n"
     ]
    }
   ],
   "source": []
  },
  {
   "cell_type": "code",
   "execution_count": 42,
   "metadata": {},
   "outputs": [
    {
     "name": "stdout",
     "output_type": "stream",
     "text": [
      "10\n"
     ]
    }
   ],
   "source": [
    "print(len(letter))"
   ]
  },
  {
   "cell_type": "code",
   "execution_count": 44,
   "metadata": {},
   "outputs": [
    {
     "name": "stdout",
     "output_type": "stream",
     "text": [
      "['b', 'd', 'g', 'i', 'm', 'm', 'o', 'p', 'q', 't']\n"
     ]
    }
   ],
   "source": [
    "print(letter)"
   ]
  },
  {
   "cell_type": "code",
   "execution_count": 45,
   "metadata": {},
   "outputs": [
    {
     "name": "stdout",
     "output_type": "stream",
     "text": [
      "{'a': 1, 'b': 1, 'c': 0, 'd': 1, 'e': 0, 'f': 0, 'g': 1, 'h': 0, 'i': 1, 'j': 0, 'k': 0, 'l': 0, 'm': 2, 'n': 0, 'o': 1, 'p': 1, 'q': 1, 'r': 0, 's': 0, 't': 1, 'u': 0, 'v': 0, 'w': 0, 'x': 0, 'y': 0, 'z': 0}\n"
     ]
    }
   ],
   "source": [
    "for i in range(len(letter)):\n",
    "    ele[letter[i]] +=1\n",
    "\n",
    "for i in range(len(ele)):\n",
    "    "
   ]
  },
  {
   "cell_type": "code",
   "execution_count": 38,
   "metadata": {},
   "outputs": [],
   "source": [
    "import numpy as np\n",
    "import pandas as pd"
   ]
  },
  {
   "cell_type": "code",
   "execution_count": 39,
   "metadata": {},
   "outputs": [
    {
     "name": "stdout",
     "output_type": "stream",
     "text": [
      "['a', 'b', 'c', 'd', 'e', 'f', 'g', 'h', 'i', 'j', 'k', 'l', 'm', 'n', 'o', 'p', 'q', 'r', 's', 't', 'u', 'v', 'w', 'x', 'y', 'z']\n"
     ]
    }
   ],
   "source": [
    "data = []\n",
    "for i in range(26):\n",
    "    data.append(chr(i+97))\n",
    "print(data)\n",
    "    "
   ]
  },
  {
   "cell_type": "code",
   "execution_count": 40,
   "metadata": {},
   "outputs": [
    {
     "name": "stdout",
     "output_type": "stream",
     "text": [
      "26\n",
      "d\n"
     ]
    }
   ],
   "source": [
    "index = range(0,26)\n",
    "#print(index[25])\n",
    "s = pd.Series(data,index=index)\n",
    "print(len(s))\n",
    "print(s[3])\n"
   ]
  },
  {
   "cell_type": "code",
   "execution_count": 41,
   "metadata": {},
   "outputs": [],
   "source": [
    "index = []\n",
    "for i in range(26):\n",
    "    x = chr(97+i)\n",
    "    index.append(x)\n",
    "   \n",
    "    "
   ]
  },
  {
   "cell_type": "code",
   "execution_count": 62,
   "metadata": {},
   "outputs": [
    {
     "name": "stdout",
     "output_type": "stream",
     "text": [
      "a    1\n",
      "b    1\n",
      "c    0\n",
      "d    1\n",
      "e    1\n",
      "f    0\n",
      "g    0\n",
      "h    0\n",
      "i    0\n",
      "j    0\n",
      "k    1\n",
      "l    0\n",
      "m    1\n",
      "n    2\n",
      "o    0\n",
      "p    1\n",
      "q    0\n",
      "r    0\n",
      "s    0\n",
      "t    0\n",
      "u    0\n",
      "v    0\n",
      "w    0\n",
      "x    1\n",
      "y    0\n",
      "z    0\n",
      "dtype: int64\n",
      "['a', 'n', 'd', 'p', 'b', 'k', 'x', 'n', 'e', 'm']\n",
      "a    3\n",
      "b    3\n",
      "c    0\n",
      "d    3\n",
      "e    3\n",
      "f    0\n",
      "g    0\n",
      "h    0\n",
      "i    0\n",
      "j    0\n",
      "k    3\n",
      "l    0\n",
      "m    3\n",
      "n    6\n",
      "o    0\n",
      "p    3\n",
      "q    0\n",
      "r    0\n",
      "s    0\n",
      "t    0\n",
      "u    0\n",
      "v    0\n",
      "w    0\n",
      "x    3\n",
      "y    0\n",
      "z    0\n",
      "dtype: int64\n"
     ]
    }
   ],
   "source": [
    "y = pd.Series(0,index)\n",
    "\n",
    "for i in range(len(letter)):\n",
    "    #print(y[letter[0]])\n",
    "    y[letter[i]] +=1\n",
    "\n",
    "print(y)\n",
    "print(letter)\n",
    "\n",
    "y = 3*y\n",
    "print(y)\n"
   ]
  },
  {
   "cell_type": "code",
   "execution_count": 45,
   "metadata": {},
   "outputs": [
    {
     "name": "stdout",
     "output_type": "stream",
     "text": [
      "['a', 'n', 'd', 'p', 'b', 'k', 'x', 'n', 'e', 'm']\n"
     ]
    }
   ],
   "source": [
    "print(letter)"
   ]
  },
  {
   "cell_type": "code",
   "execution_count": 46,
   "metadata": {},
   "outputs": [
    {
     "name": "stdout",
     "output_type": "stream",
     "text": [
      "Index(['a', 'b', 'c', 'd', 'e', 'f', 'g', 'h', 'i', 'j', 'k', 'l', 'm', 'n',\n",
      "       'o', 'p', 'q', 'r', 's', 't', 'u', 'v', 'w', 'x', 'y', 'z'],\n",
      "      dtype='object')\n"
     ]
    }
   ],
   "source": [
    "print(y.index)"
   ]
  },
  {
   "cell_type": "code",
   "execution_count": null,
   "metadata": {},
   "outputs": [],
   "source": []
  }
 ],
 "metadata": {
  "kernelspec": {
   "display_name": "Python 3",
   "language": "python",
   "name": "python3"
  },
  "language_info": {
   "codemirror_mode": {
    "name": "ipython",
    "version": 3
   },
   "file_extension": ".py",
   "mimetype": "text/x-python",
   "name": "python",
   "nbconvert_exporter": "python",
   "pygments_lexer": "ipython3",
   "version": "3.6.4"
  }
 },
 "nbformat": 4,
 "nbformat_minor": 2
}
