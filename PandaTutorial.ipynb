{
 "cells": [
  {
   "cell_type": "code",
   "execution_count": 1,
   "metadata": {},
   "outputs": [],
   "source": [
    "import pandas as pd\n",
    "\n",
    "data = pd.read_csv(r\"C:\\Users\\slowg\\Desktop\\convertcsv.csv\",sep=';')\n"
   ]
  },
  {
   "cell_type": "code",
   "execution_count": 2,
   "metadata": {},
   "outputs": [
    {
     "name": "stdout",
     "output_type": "stream",
     "text": [
      "          EST  Temperature  DewPoint  Humidity  Sea Level PressureIn  \\\n",
      "0    1/1/2016           38        23        52                 30.03   \n",
      "1    1/2/2016           36        18        46                 30.02   \n",
      "2    1/3/2016           40        21        47                 29.86   \n",
      "3    1/4/2016           25         9        44                 30.05   \n",
      "4    1/5/2016           20        -3        41                 30.57   \n",
      "5    1/6/2016           33         4        35                 30.50   \n",
      "6    1/7/2016           39        11        33                 30.28   \n",
      "7    1/8/2016           39        29        64                 30.20   \n",
      "8    1/9/2016           44        38        77                 30.16   \n",
      "9   1/10/2016           50        46        71                 29.59   \n",
      "10  1/11/2016           33         8        37                 29.92   \n",
      "11  1/12/2016           35        15        53                 29.85   \n",
      "12  1/13/2016           26         4        42                 29.94   \n",
      "13  1/14/2016           30        12        47                 29.95   \n",
      "14  1/15/2016           43        31        62                 29.82   \n",
      "15  1/16/2016           47        37        70                 29.52   \n",
      "16  1/17/2016           36        23        66                 29.78   \n",
      "17  1/18/2016           25         6        53                 29.83   \n",
      "18  1/19/2016           22         3        42                 30.03   \n",
      "19  1/20/2016           32        15        49                 30.13   \n",
      "20  1/21/2016           31        11        45                 30.15   \n",
      "21  1/22/2016           26         6        41                 30.21   \n",
      "22  1/23/2016           26        21        78                 29.77   \n",
      "23  1/24/2016           28        11        53                 29.92   \n",
      "24  1/25/2016           34        18        54                 30.25   \n",
      "25  1/26/2016           43        29        56                 30.03   \n",
      "26  1/27/2016           41        22        45                 30.03   \n",
      "27  1/28/2016           37        20        51                 29.90   \n",
      "28  1/29/2016           36        21        50                 29.58   \n",
      "29  1/30/2016           34        16        46                 30.01   \n",
      "30  1/31/2016           46        28        52                 29.90   \n",
      "\n",
      "    VisibilityMiles  WindSpeedMPH PrecipitationIn  CloudCover    Events  \\\n",
      "0                10           8.0               0           5       NaN   \n",
      "1                10           7.0               0           3       NaN   \n",
      "2                10           8.0               0           1       NaN   \n",
      "3                10           9.0               0           3       NaN   \n",
      "4                10           5.0               0           0       NaN   \n",
      "5                10           4.0               0           0       NaN   \n",
      "6                10           2.0               0           3       NaN   \n",
      "7                10           4.0               0           8       NaN   \n",
      "8                 9           8.0               T           8      Rain   \n",
      "9                 4           NaN             1.8           7      Rain   \n",
      "10               10           NaN               0           1       NaN   \n",
      "11               10           6.0               T           4       NaN   \n",
      "12               10          10.0               0           0       NaN   \n",
      "13               10           5.0               T           7       NaN   \n",
      "14                9           5.0               T           2       NaN   \n",
      "15                8           7.0            0.24           7      Rain   \n",
      "16                8           6.0            0.05           6  Fog-Snow   \n",
      "17                9          12.0               T           2      Snow   \n",
      "18               10          11.0               0           1       NaN   \n",
      "19               10           6.0               0           2       NaN   \n",
      "20               10           6.0               0           1       NaN   \n",
      "21                9           NaN            0.01           3      Snow   \n",
      "22                1          16.0            2.31           8  Fog-Snow   \n",
      "23                8           6.0               T           3      Snow   \n",
      "24               10           3.0               0           2       NaN   \n",
      "25               10           7.0               0           2       NaN   \n",
      "26               10           7.0               T           3      Rain   \n",
      "27               10           5.0               0           1       NaN   \n",
      "28               10           8.0               0           4       NaN   \n",
      "29               10           7.0               0           0       NaN   \n",
      "30               10           5.0               0           0       NaN   \n",
      "\n",
      "    WindDirDegrees  \n",
      "0              281  \n",
      "1              275  \n",
      "2              277  \n",
      "3              345  \n",
      "4              333  \n",
      "5              259  \n",
      "6              293  \n",
      "7               79  \n",
      "8               76  \n",
      "9              109  \n",
      "10             289  \n",
      "11             235  \n",
      "12             284  \n",
      "13             266  \n",
      "14             101  \n",
      "15             340  \n",
      "16             345  \n",
      "17             293  \n",
      "18             293  \n",
      "19             302  \n",
      "20             312  \n",
      "21              34  \n",
      "22              42  \n",
      "23             327  \n",
      "24             286  \n",
      "25             244  \n",
      "26             311  \n",
      "27             234  \n",
      "28             298  \n",
      "29             257  \n",
      "30             241  \n"
     ]
    }
   ],
   "source": [
    "print(data)"
   ]
  },
  {
   "cell_type": "code",
   "execution_count": null,
   "metadata": {},
   "outputs": [],
   "source": []
  },
  {
   "cell_type": "code",
   "execution_count": 13,
   "metadata": {},
   "outputs": [
    {
     "name": "stdout",
     "output_type": "stream",
     "text": [
      "        EST  Temperature  DewPoint  Humidity  Sea Level PressureIn  \\\n",
      "0  1/1/2016           38        23        52                 30.03   \n",
      "1  1/2/2016           36        18        46                 30.02   \n",
      "2  1/3/2016           40        21        47                 29.86   \n",
      "3  1/4/2016           25         9        44                 30.05   \n",
      "4  1/5/2016           20        -3        41                 30.57   \n",
      "\n",
      "   VisibilityMiles  WindSpeedMPH PrecipitationIn  CloudCover Events  \\\n",
      "0               10           8.0               0           5    NaN   \n",
      "1               10           7.0               0           3    NaN   \n",
      "2               10           8.0               0           1    NaN   \n",
      "3               10           9.0               0           3    NaN   \n",
      "4               10           5.0               0           0    NaN   \n",
      "\n",
      "   WindDirDegrees  \n",
      "0             281  \n",
      "1             275  \n",
      "2             277  \n",
      "3             345  \n",
      "4             333  \n"
     ]
    }
   ],
   "source": [
    "print(data.head())"
   ]
  },
  {
   "cell_type": "code",
   "execution_count": 14,
   "metadata": {},
   "outputs": [
    {
     "name": "stdout",
     "output_type": "stream",
     "text": [
      "0     38\n",
      "1     36\n",
      "2     40\n",
      "3     25\n",
      "4     20\n",
      "5     33\n",
      "6     39\n",
      "7     39\n",
      "8     44\n",
      "9     50\n",
      "10    33\n",
      "11    35\n",
      "12    26\n",
      "13    30\n",
      "14    43\n",
      "15    47\n",
      "16    36\n",
      "17    25\n",
      "18    22\n",
      "19    32\n",
      "20    31\n",
      "21    26\n",
      "22    26\n",
      "23    28\n",
      "24    34\n",
      "25    43\n",
      "26    41\n",
      "27    37\n",
      "28    36\n",
      "29    34\n",
      "30    46\n",
      "Name: Temperature, dtype: int64\n"
     ]
    }
   ],
   "source": [
    "print(data['Temperature'])"
   ]
  },
  {
   "cell_type": "code",
   "execution_count": 15,
   "metadata": {},
   "outputs": [
    {
     "name": "stdout",
     "output_type": "stream",
     "text": [
      "50\n"
     ]
    }
   ],
   "source": [
    "print(data['Temperature'].max())"
   ]
  },
  {
   "cell_type": "code",
   "execution_count": 6,
   "metadata": {},
   "outputs": [
    {
     "name": "stdout",
     "output_type": "stream",
     "text": [
      "          EST  Temperature  WindSpeedMPH\n",
      "2    1/3/2016           40           8.0\n",
      "8    1/9/2016           44           8.0\n",
      "9   1/10/2016           50           NaN\n",
      "14  1/15/2016           43           5.0\n",
      "15  1/16/2016           47           7.0\n",
      "25  1/26/2016           43           7.0\n",
      "26  1/27/2016           41           7.0\n",
      "30  1/31/2016           46           5.0\n"
     ]
    }
   ],
   "source": [
    "print(data[['EST','Temperature','WindSpeedMPH']][data['Temperature']>=40])"
   ]
  },
  {
   "cell_type": "code",
   "execution_count": 21,
   "metadata": {},
   "outputs": [
    {
     "data": {
      "text/plain": [
       "0      8.0\n",
       "1      7.0\n",
       "2      8.0\n",
       "3      9.0\n",
       "4      5.0\n",
       "5      4.0\n",
       "6      2.0\n",
       "7      4.0\n",
       "8      8.0\n",
       "9      NaN\n",
       "10     NaN\n",
       "11     6.0\n",
       "12    10.0\n",
       "13     5.0\n",
       "14     5.0\n",
       "15     7.0\n",
       "16     6.0\n",
       "17    12.0\n",
       "18    11.0\n",
       "19     6.0\n",
       "20     6.0\n",
       "21     NaN\n",
       "22    16.0\n",
       "23     6.0\n",
       "24     3.0\n",
       "25     7.0\n",
       "26     7.0\n",
       "27     5.0\n",
       "28     8.0\n",
       "29     7.0\n",
       "30     5.0\n",
       "Name: WindSpeedMPH, dtype: float64"
      ]
     },
     "execution_count": 21,
     "metadata": {},
     "output_type": "execute_result"
    }
   ],
   "source": [
    "data['WindSpeedMPH']"
   ]
  },
  {
   "cell_type": "code",
   "execution_count": 22,
   "metadata": {},
   "outputs": [
    {
     "data": {
      "text/plain": [
       "0      8.0\n",
       "1      7.0\n",
       "2      8.0\n",
       "3      9.0\n",
       "4      5.0\n",
       "5      4.0\n",
       "6      2.0\n",
       "7      4.0\n",
       "8      8.0\n",
       "9      0.0\n",
       "10     0.0\n",
       "11     6.0\n",
       "12    10.0\n",
       "13     5.0\n",
       "14     5.0\n",
       "15     7.0\n",
       "16     6.0\n",
       "17    12.0\n",
       "18    11.0\n",
       "19     6.0\n",
       "20     6.0\n",
       "21     0.0\n",
       "22    16.0\n",
       "23     6.0\n",
       "24     3.0\n",
       "25     7.0\n",
       "26     7.0\n",
       "27     5.0\n",
       "28     8.0\n",
       "29     7.0\n",
       "30     5.0\n",
       "Name: WindSpeedMPH, dtype: float64"
      ]
     },
     "execution_count": 22,
     "metadata": {},
     "output_type": "execute_result"
    }
   ],
   "source": [
    "data['WindSpeedMPH'].fillna(0)"
   ]
  },
  {
   "cell_type": "code",
   "execution_count": 3,
   "metadata": {},
   "outputs": [
    {
     "name": "stdout",
     "output_type": "stream",
     "text": [
      "{'Name': ['Akash', 'Rahim', 'Karim'], 'Roll': [100128, 100129, 100130], 'Reg': [150165, 150166, 150167]}\n"
     ]
    }
   ],
   "source": [
    "\n",
    "keyss = ['Name','Roll','Reg']\n",
    "name = ['Akash','Rahim','Karim']\n",
    "roll = [100128,100129,100130]\n",
    "reg = [150165,150166,150167]\n",
    "\n",
    "\n",
    "dic = {}\n",
    "dic = {keyss[0]:name,keyss[1]:roll,keyss[2]:reg}\n",
    "print(dic)\n",
    "\n"
   ]
  },
  {
   "cell_type": "code",
   "execution_count": 4,
   "metadata": {},
   "outputs": [],
   "source": [
    "df = pd.DataFrame(dic)"
   ]
  },
  {
   "cell_type": "code",
   "execution_count": 5,
   "metadata": {},
   "outputs": [
    {
     "name": "stdout",
     "output_type": "stream",
     "text": [
      "    Name     Reg    Roll\n",
      "0  Akash  150165  100128\n",
      "1  Rahim  150166  100129\n",
      "2  Karim  150167  100130\n"
     ]
    }
   ],
   "source": [
    "print(df)"
   ]
  },
  {
   "cell_type": "code",
   "execution_count": 13,
   "metadata": {},
   "outputs": [
    {
     "name": "stdout",
     "output_type": "stream",
     "text": [
      "          EST  Temperature  WindSpeedMPH\n",
      "9   1/10/2016           50           NaN\n",
      "10  1/11/2016           33           NaN\n",
      "21  1/22/2016           26           NaN\n"
     ]
    }
   ],
   "source": [
    "import math\n",
    "print(data[['EST','Temperature','WindSpeedMPH']][data['WindSpeedMPH'].isnull()])"
   ]
  },
  {
   "cell_type": "code",
   "execution_count": 15,
   "metadata": {},
   "outputs": [
    {
     "name": "stdout",
     "output_type": "stream",
     "text": [
      "          EST  Temperature  WindSpeedMPH\n",
      "0    1/1/2016           38           8.0\n",
      "1    1/2/2016           36           7.0\n",
      "2    1/3/2016           40           8.0\n",
      "3    1/4/2016           25           9.0\n",
      "4    1/5/2016           20           5.0\n",
      "5    1/6/2016           33           4.0\n",
      "6    1/7/2016           39           2.0\n",
      "7    1/8/2016           39           4.0\n",
      "8    1/9/2016           44           8.0\n",
      "11  1/12/2016           35           6.0\n",
      "12  1/13/2016           26          10.0\n",
      "13  1/14/2016           30           5.0\n",
      "14  1/15/2016           43           5.0\n",
      "15  1/16/2016           47           7.0\n",
      "16  1/17/2016           36           6.0\n",
      "17  1/18/2016           25          12.0\n",
      "18  1/19/2016           22          11.0\n",
      "19  1/20/2016           32           6.0\n",
      "20  1/21/2016           31           6.0\n",
      "22  1/23/2016           26          16.0\n",
      "23  1/24/2016           28           6.0\n",
      "24  1/25/2016           34           3.0\n",
      "25  1/26/2016           43           7.0\n",
      "26  1/27/2016           41           7.0\n",
      "27  1/28/2016           37           5.0\n",
      "28  1/29/2016           36           8.0\n",
      "29  1/30/2016           34           7.0\n",
      "30  1/31/2016           46           5.0\n"
     ]
    }
   ],
   "source": [
    "print(data[['EST','Temperature','WindSpeedMPH']][data['WindSpeedMPH'].isnull() == False])"
   ]
  },
  {
   "cell_type": "code",
   "execution_count": 16,
   "metadata": {},
   "outputs": [
    {
     "name": "stdout",
     "output_type": "stream",
     "text": [
      "0     38\n",
      "1     36\n",
      "2     40\n",
      "3     25\n",
      "4     20\n",
      "5     33\n",
      "6     39\n",
      "7     39\n",
      "8     44\n",
      "9     50\n",
      "10    33\n",
      "11    35\n",
      "12    26\n",
      "13    30\n",
      "14    43\n",
      "15    47\n",
      "16    36\n",
      "17    25\n",
      "18    22\n",
      "19    32\n",
      "20    31\n",
      "21    26\n",
      "22    26\n",
      "23    28\n",
      "24    34\n",
      "25    43\n",
      "26    41\n",
      "27    37\n",
      "28    36\n",
      "29    34\n",
      "30    46\n",
      "Name: Temperature, dtype: int64\n"
     ]
    }
   ],
   "source": [
    "print(data.Temperature)"
   ]
  },
  {
   "cell_type": "code",
   "execution_count": 17,
   "metadata": {},
   "outputs": [
    {
     "name": "stdout",
     "output_type": "stream",
     "text": [
      "Index(['EST', 'Temperature', 'DewPoint', 'Humidity', 'Sea Level PressureIn',\n",
      "       'VisibilityMiles', 'WindSpeedMPH', 'PrecipitationIn', 'CloudCover',\n",
      "       'Events', 'WindDirDegrees'],\n",
      "      dtype='object')\n"
     ]
    }
   ],
   "source": [
    "print(data.columns)"
   ]
  },
  {
   "cell_type": "code",
   "execution_count": 20,
   "metadata": {},
   "outputs": [
    {
     "name": "stdout",
     "output_type": "stream",
     "text": [
      "        EST  Temperature  DewPoint  Humidity  Sea Level PressureIn  \\\n",
      "0  1/1/2016           38        23        52                 30.03   \n",
      "1  1/2/2016           36        18        46                 30.02   \n",
      "2  1/3/2016           40        21        47                 29.86   \n",
      "3  1/4/2016           25         9        44                 30.05   \n",
      "4  1/5/2016           20        -3        41                 30.57   \n",
      "5  1/6/2016           33         4        35                 30.50   \n",
      "\n",
      "   VisibilityMiles  WindSpeedMPH PrecipitationIn  CloudCover Events  \\\n",
      "0               10           8.0               0           5    NaN   \n",
      "1               10           7.0               0           3    NaN   \n",
      "2               10           8.0               0           1    NaN   \n",
      "3               10           9.0               0           3    NaN   \n",
      "4               10           5.0               0           0    NaN   \n",
      "5               10           4.0               0           0    NaN   \n",
      "\n",
      "   WindDirDegrees  \n",
      "0             281  \n",
      "1             275  \n",
      "2             277  \n",
      "3             345  \n",
      "4             333  \n",
      "5             259  \n"
     ]
    }
   ],
   "source": [
    "print(data.loc[0:5])"
   ]
  },
  {
   "cell_type": "code",
   "execution_count": 2,
   "metadata": {},
   "outputs": [
    {
     "name": "stdout",
     "output_type": "stream",
     "text": [
      "        EST  Temperature  DewPoint  Humidity  Sea Level PressureIn  \\\n",
      "0  1/1/2016           38        23        52                 30.03   \n",
      "1  1/2/2016           36        18        46                 30.02   \n",
      "2  1/3/2016           40        21        47                 29.86   \n",
      "3  1/4/2016           25         9        44                 30.05   \n",
      "4  1/5/2016           20        -3        41                 30.57   \n",
      "\n",
      "   VisibilityMiles  WindSpeedMPH PrecipitationIn  CloudCover Events  \\\n",
      "0               10           8.0               0           5    NaN   \n",
      "1               10           7.0               0           3    NaN   \n",
      "2               10           8.0               0           1    NaN   \n",
      "3               10           9.0               0           3    NaN   \n",
      "4               10           5.0               0           0    NaN   \n",
      "\n",
      "   WindDirDegrees  \n",
      "0             281  \n",
      "1             275  \n",
      "2             277  \n",
      "3             345  \n",
      "4             333  \n"
     ]
    }
   ],
   "source": [
    "print(data.iloc[0:5])"
   ]
  },
  {
   "cell_type": "code",
   "execution_count": 3,
   "metadata": {},
   "outputs": [
    {
     "name": "stdout",
     "output_type": "stream",
     "text": [
      "        EST  Temperature  DewPoint  Humidity  Sea Level PressureIn  \\\n",
      "0  1/1/2016           38        23        52                 30.03   \n",
      "1  1/2/2016           36        18        46                 30.02   \n",
      "2  1/3/2016           40        21        47                 29.86   \n",
      "3  1/4/2016           25         9        44                 30.05   \n",
      "4  1/5/2016           20        -3        41                 30.57   \n",
      "\n",
      "   VisibilityMiles  WindSpeedMPH PrecipitationIn  CloudCover Events  \\\n",
      "0               10           8.0               0           5    NaN   \n",
      "1               10           7.0               0           3    NaN   \n",
      "2               10           8.0               0           1    NaN   \n",
      "3               10           9.0               0           3    NaN   \n",
      "4               10           5.0               0           0    NaN   \n",
      "\n",
      "   WindDirDegrees  \n",
      "0             281  \n",
      "1             275  \n",
      "2             277  \n",
      "3             345  \n",
      "4             333  \n"
     ]
    }
   ],
   "source": [
    "print(data.head())"
   ]
  },
  {
   "cell_type": "code",
   "execution_count": 5,
   "metadata": {},
   "outputs": [
    {
     "name": "stdout",
     "output_type": "stream",
     "text": [
      "          EST  Temperature\n",
      "2    1/3/2016           40\n",
      "8    1/9/2016           44\n",
      "9   1/10/2016           50\n",
      "14  1/15/2016           43\n",
      "15  1/16/2016           47\n",
      "25  1/26/2016           43\n",
      "26  1/27/2016           41\n",
      "30  1/31/2016           46\n"
     ]
    }
   ],
   "source": [
    "print(data.iloc[:,0:2][data.Temperature>=40])"
   ]
  },
  {
   "cell_type": "code",
   "execution_count": 6,
   "metadata": {},
   "outputs": [
    {
     "name": "stdout",
     "output_type": "stream",
     "text": [
      "0     281\n",
      "1     275\n",
      "2     277\n",
      "3     345\n",
      "4     333\n",
      "5     259\n",
      "6     293\n",
      "7      79\n",
      "8      76\n",
      "9     109\n",
      "10    289\n",
      "11    235\n",
      "12    284\n",
      "13    266\n",
      "14    101\n",
      "15    340\n",
      "16    345\n",
      "17    293\n",
      "18    293\n",
      "19    302\n",
      "20    312\n",
      "21     34\n",
      "22     42\n",
      "23    327\n",
      "24    286\n",
      "25    244\n",
      "26    311\n",
      "27    234\n",
      "28    298\n",
      "29    257\n",
      "30    241\n",
      "Name: WindDirDegrees, dtype: int64\n"
     ]
    }
   ],
   "source": [
    "print(data.iloc[:,-1])"
   ]
  },
  {
   "cell_type": "code",
   "execution_count": 7,
   "metadata": {},
   "outputs": [
    {
     "name": "stdout",
     "output_type": "stream",
     "text": [
      "EST                     1/3/2016\n",
      "Temperature                   40\n",
      "DewPoint                      21\n",
      "Humidity                      47\n",
      "Sea Level PressureIn       29.86\n",
      "VisibilityMiles               10\n",
      "WindSpeedMPH                   8\n",
      "PrecipitationIn                0\n",
      "CloudCover                     1\n",
      "Events                       NaN\n",
      "WindDirDegrees               277\n",
      "Name: 2, dtype: object\n"
     ]
    }
   ],
   "source": [
    "print(data.iloc[2])"
   ]
  },
  {
   "cell_type": "code",
   "execution_count": 8,
   "metadata": {},
   "outputs": [
    {
     "data": {
      "text/html": [
       "<div>\n",
       "<style scoped>\n",
       "    .dataframe tbody tr th:only-of-type {\n",
       "        vertical-align: middle;\n",
       "    }\n",
       "\n",
       "    .dataframe tbody tr th {\n",
       "        vertical-align: top;\n",
       "    }\n",
       "\n",
       "    .dataframe thead th {\n",
       "        text-align: right;\n",
       "    }\n",
       "</style>\n",
       "<table border=\"1\" class=\"dataframe\">\n",
       "  <thead>\n",
       "    <tr style=\"text-align: right;\">\n",
       "      <th></th>\n",
       "      <th>WindSpeedMPH</th>\n",
       "      <th>PrecipitationIn</th>\n",
       "      <th>CloudCover</th>\n",
       "    </tr>\n",
       "  </thead>\n",
       "  <tbody>\n",
       "    <tr>\n",
       "      <th>0</th>\n",
       "      <td>8.0</td>\n",
       "      <td>0</td>\n",
       "      <td>5</td>\n",
       "    </tr>\n",
       "    <tr>\n",
       "      <th>1</th>\n",
       "      <td>7.0</td>\n",
       "      <td>0</td>\n",
       "      <td>3</td>\n",
       "    </tr>\n",
       "    <tr>\n",
       "      <th>2</th>\n",
       "      <td>8.0</td>\n",
       "      <td>0</td>\n",
       "      <td>1</td>\n",
       "    </tr>\n",
       "    <tr>\n",
       "      <th>3</th>\n",
       "      <td>9.0</td>\n",
       "      <td>0</td>\n",
       "      <td>3</td>\n",
       "    </tr>\n",
       "    <tr>\n",
       "      <th>4</th>\n",
       "      <td>5.0</td>\n",
       "      <td>0</td>\n",
       "      <td>0</td>\n",
       "    </tr>\n",
       "  </tbody>\n",
       "</table>\n",
       "</div>"
      ],
      "text/plain": [
       "   WindSpeedMPH PrecipitationIn  CloudCover\n",
       "0           8.0               0           5\n",
       "1           7.0               0           3\n",
       "2           8.0               0           1\n",
       "3           9.0               0           3\n",
       "4           5.0               0           0"
      ]
     },
     "execution_count": 8,
     "metadata": {},
     "output_type": "execute_result"
    }
   ],
   "source": [
    "data.iloc[0:5,6:9]"
   ]
  },
  {
   "cell_type": "code",
   "execution_count": 9,
   "metadata": {},
   "outputs": [
    {
     "name": "stdout",
     "output_type": "stream",
     "text": [
      "(31, 11)\n"
     ]
    }
   ],
   "source": [
    "print(data.shape)"
   ]
  },
  {
   "cell_type": "code",
   "execution_count": 15,
   "metadata": {},
   "outputs": [
    {
     "name": "stdout",
     "output_type": "stream",
     "text": [
      "         Day  Tem  Wind Event\n",
      "0  10/8/1995   30     5  Rain\n",
      "1  10/8/1995   30     5  Rain\n",
      "2  10/8/1995   30     5  Rain\n"
     ]
    }
   ],
   "source": [
    "column = [\"Day\",\"Tem\",\"Wind\",\"Event\"]\n",
    "wd = [\n",
    "    ('10/8/1995',30,5,'Rain'),\n",
    "    ('10/8/1995',30,5,'Rain'),\n",
    "    ('10/8/1995',30,5,'Rain')\n",
    "]\n",
    "\n",
    "df = pd.DataFrame(wd,columns=[\"Day\",\"Tem\",\"Wind\",\"Event\"])\n",
    "print(df)"
   ]
  },
  {
   "cell_type": "code",
   "execution_count": 16,
   "metadata": {},
   "outputs": [],
   "source": [
    "xy = column\n",
    "df = pd.DataFrame(wd,columns=xy)"
   ]
  },
  {
   "cell_type": "code",
   "execution_count": 17,
   "metadata": {},
   "outputs": [
    {
     "name": "stdout",
     "output_type": "stream",
     "text": [
      "         Day  Tem  Wind Event\n",
      "0  10/8/1995   30     5  Rain\n",
      "1  10/8/1995   30     5  Rain\n",
      "2  10/8/1995   30     5  Rain\n"
     ]
    }
   ],
   "source": [
    "print(df)"
   ]
  },
  {
   "cell_type": "code",
   "execution_count": 19,
   "metadata": {},
   "outputs": [
    {
     "name": "stdout",
     "output_type": "stream",
     "text": [
      "Amar nam aksh\n",
      "Amar nam aksh\n",
      "['Amar', 'nam', 'aksh']\n"
     ]
    }
   ],
   "source": [
    "x = input()\n",
    "print(x)\n",
    "newtxt = x.split()\n",
    "print(newtxt)"
   ]
  },
  {
   "cell_type": "code",
   "execution_count": 20,
   "metadata": {},
   "outputs": [
    {
     "name": "stdout",
     "output_type": "stream",
     "text": [
      "3\n"
     ]
    }
   ],
   "source": [
    "print(len(newtxt))\n",
    "    \n",
    "    "
   ]
  },
  {
   "cell_type": "code",
   "execution_count": 43,
   "metadata": {},
   "outputs": [
    {
     "name": "stdout",
     "output_type": "stream",
     "text": [
      "10/8/1995 10 8 rain\n",
      "10/8/1995 10 8 rain\n",
      "10/8/1995 10 8 rain\n",
      "[['10/8/1995', '10', '8', 'rain'], ['10/8/1995', '10', '8', 'rain'], ['10/8/1995', '10', '8', 'rain']]\n"
     ]
    }
   ],
   "source": [
    "\n",
    "\n",
    "wd=[]\n",
    "for i in range(3):\n",
    "    wd.append([])\n",
    "    x = input()\n",
    "    y = x.split()\n",
    "    for j in range(len(y)):\n",
    "        wd[i].append(y[j])\n",
    "print(wd)\n",
    "\n",
    "df = pd.DataFrame(wd,columns=xy)"
   ]
  },
  {
   "cell_type": "code",
   "execution_count": 44,
   "metadata": {},
   "outputs": [
    {
     "name": "stdout",
     "output_type": "stream",
     "text": [
      "rain\n"
     ]
    }
   ],
   "source": [
    "print(y[3])"
   ]
  },
  {
   "cell_type": "code",
   "execution_count": 45,
   "metadata": {},
   "outputs": [
    {
     "name": "stdout",
     "output_type": "stream",
     "text": [
      "         Day Tem Wind Event\n",
      "0  10/8/1995  10    8  rain\n",
      "1  10/8/1995  10    8  rain\n",
      "2  10/8/1995  10    8  rain\n"
     ]
    }
   ],
   "source": [
    "print(df)"
   ]
  },
  {
   "cell_type": "code",
   "execution_count": 55,
   "metadata": {},
   "outputs": [],
   "source": [
    "df = df.drop(df.index[0])"
   ]
  },
  {
   "cell_type": "code",
   "execution_count": 56,
   "metadata": {},
   "outputs": [
    {
     "name": "stdout",
     "output_type": "stream",
     "text": [
      "         Day Tem Wind Event\n",
      "2  10/8/1995  10    8  rain\n"
     ]
    }
   ],
   "source": [
    "print(df)"
   ]
  },
  {
   "cell_type": "code",
   "execution_count": 59,
   "metadata": {},
   "outputs": [],
   "source": [
    "df = df.drop('Event',axis=1)"
   ]
  },
  {
   "cell_type": "code",
   "execution_count": 60,
   "metadata": {},
   "outputs": [
    {
     "name": "stdout",
     "output_type": "stream",
     "text": [
      "         Day Tem Wind\n",
      "2  10/8/1995  10    8\n"
     ]
    }
   ],
   "source": [
    "print(df)"
   ]
  },
  {
   "cell_type": "code",
   "execution_count": 63,
   "metadata": {},
   "outputs": [
    {
     "data": {
      "text/html": [
       "<div>\n",
       "<style scoped>\n",
       "    .dataframe tbody tr th:only-of-type {\n",
       "        vertical-align: middle;\n",
       "    }\n",
       "\n",
       "    .dataframe tbody tr th {\n",
       "        vertical-align: top;\n",
       "    }\n",
       "\n",
       "    .dataframe thead th {\n",
       "        text-align: right;\n",
       "    }\n",
       "</style>\n",
       "<table border=\"1\" class=\"dataframe\">\n",
       "  <thead>\n",
       "    <tr style=\"text-align: right;\">\n",
       "      <th></th>\n",
       "      <th>Day</th>\n",
       "      <th>Tem</th>\n",
       "    </tr>\n",
       "  </thead>\n",
       "  <tbody>\n",
       "    <tr>\n",
       "      <th>2</th>\n",
       "      <td>10/8/1995</td>\n",
       "      <td>10</td>\n",
       "    </tr>\n",
       "  </tbody>\n",
       "</table>\n",
       "</div>"
      ],
      "text/plain": [
       "         Day Tem\n",
       "2  10/8/1995  10"
      ]
     },
     "execution_count": 63,
     "metadata": {},
     "output_type": "execute_result"
    }
   ],
   "source": [
    "df.drop(df.columns[2],axis=1)"
   ]
  },
  {
   "cell_type": "code",
   "execution_count": 64,
   "metadata": {},
   "outputs": [
    {
     "name": "stdout",
     "output_type": "stream",
     "text": [
      "         Day Tem Wind\n",
      "2  10/8/1995  10    8\n"
     ]
    }
   ],
   "source": [
    "print(df)"
   ]
  },
  {
   "cell_type": "code",
   "execution_count": 65,
   "metadata": {},
   "outputs": [],
   "source": [
    "df =  df.drop(df.columns[2],axis=1)"
   ]
  },
  {
   "cell_type": "code",
   "execution_count": 66,
   "metadata": {},
   "outputs": [
    {
     "name": "stdout",
     "output_type": "stream",
     "text": [
      "         Day Tem\n",
      "2  10/8/1995  10\n"
     ]
    }
   ],
   "source": [
    "print(df)"
   ]
  },
  {
   "cell_type": "code",
   "execution_count": 67,
   "metadata": {},
   "outputs": [
    {
     "name": "stdout",
     "output_type": "stream",
     "text": [
      "Int64Index([2], dtype='int64')\n"
     ]
    }
   ],
   "source": [
    "print(df.index)"
   ]
  },
  {
   "cell_type": "code",
   "execution_count": 71,
   "metadata": {},
   "outputs": [
    {
     "name": "stdout",
     "output_type": "stream",
     "text": [
      "2\n"
     ]
    }
   ],
   "source": [
    "print(df.index[0])"
   ]
  },
  {
   "cell_type": "code",
   "execution_count": 72,
   "metadata": {},
   "outputs": [
    {
     "name": "stdout",
     "output_type": "stream",
     "text": [
      "(1, 2)\n"
     ]
    }
   ],
   "source": [
    "print(df.shape)"
   ]
  },
  {
   "cell_type": "code",
   "execution_count": null,
   "metadata": {},
   "outputs": [],
   "source": []
  }
 ],
 "metadata": {
  "kernelspec": {
   "display_name": "Python 3",
   "language": "python",
   "name": "python3"
  },
  "language_info": {
   "codemirror_mode": {
    "name": "ipython",
    "version": 3
   },
   "file_extension": ".py",
   "mimetype": "text/x-python",
   "name": "python",
   "nbconvert_exporter": "python",
   "pygments_lexer": "ipython3",
   "version": "3.6.4"
  }
 },
 "nbformat": 4,
 "nbformat_minor": 2
}
